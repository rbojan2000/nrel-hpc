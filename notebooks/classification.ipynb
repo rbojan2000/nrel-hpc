{
 "cells": [
  {
   "cell_type": "markdown",
   "id": "231d5289",
   "metadata": {
    "vscode": {
     "languageId": "r"
    }
   },
   "source": [
    "<div align=\"center\">\n",
    "    <h1><b>3. Klasifikacija </b></h1>\n",
    "</div>\n",
    "\n",
    "---\n",
    "\n",
    "Za potrebe klasifikacije korišćen je <i>Solar Clearness Index (SCI)</i>, definisan kao odnos između izmerene \n",
    "<i>globalne horizontalne iradijacije (GHI)</i> i očekivane vrednosti pod vedrim nebom (<i>clearsky GHI</i>). \n",
    "Vrednosti <i>SCI</i> su ograničene na opseg [0,1].\n",
    "\n",
    "Za klasifikaciju, SCI je podeljen na dve kategorije:  \n",
    "- <b>clear</b>: SCI ≥ 0.8  \n",
    "- <b>cloudy</b>: SCI < 0.8  \n",
    "\n",
    "Ovaj prag je odabran jer omogućava izbalansiran skup podataka (~63% „clear“, ~37% „cloudy“),  \n"
   ]
  },
  {
   "cell_type": "code",
   "execution_count": 3,
   "id": "28643226",
   "metadata": {
    "vscode": {
     "languageId": "r"
    }
   },
   "outputs": [],
   "source": [
    "library(arrow)\n",
    "library(dplyr)\n",
    "library(caret)\n",
    "library(ranger)\n"
   ]
  },
  {
   "cell_type": "code",
   "execution_count": 1,
   "id": "f9ecef3d",
   "metadata": {
    "vscode": {
     "languageId": "r"
    }
   },
   "outputs": [],
   "source": [
    "TRANSFORMED_DATASET_PATH <- \"../data/nsrdb_puerto_rico_2017_transformed.parquet\"\n",
    "TRAIN_DATASET_PATH <- \"../data/nsrdb_puerto_rico_2017_train.parquet\"\n",
    "TEST_DATASET_PATH <- \"../data/nsrdb_puerto_rico_2017_test.parquet\"\n",
    "\n",
    "THRESHOLD <- 0.8"
   ]
  },
  {
   "cell_type": "code",
   "execution_count": 5,
   "id": "e990b5b2",
   "metadata": {
    "vscode": {
     "languageId": "r"
    }
   },
   "outputs": [],
   "source": [
    "df <- read_parquet(TRANSFORMED_DATASET_PATH)%>%\n",
    "  as.data.frame()"
   ]
  },
  {
   "cell_type": "code",
   "execution_count": 6,
   "id": "e18305a2",
   "metadata": {
    "vscode": {
     "languageId": "r"
    }
   },
   "outputs": [],
   "source": [
    "df %>%\n",
    "  mutate(sci_label = case_when(\n",
    "    sci >= THRESHOLD ~ \"clear\",\n",
    "    sci < THRESHOLD ~ \"cloudy\"\n",
    "  )) %>%\n",
    "  write_parquet(TRANSFORMED_DATASET_PATH)"
   ]
  },
  {
   "cell_type": "code",
   "execution_count": 7,
   "id": "4d5f518c",
   "metadata": {
    "vscode": {
     "languageId": "r"
    }
   },
   "outputs": [
    {
     "data": {
      "text/html": [
       "<table class=\"dataframe\">\n",
       "<caption>A tibble: 2 × 2</caption>\n",
       "<thead>\n",
       "\t<tr><th scope=col>sci_label</th><th scope=col>count</th></tr>\n",
       "\t<tr><th scope=col>&lt;chr&gt;</th><th scope=col>&lt;int&gt;</th></tr>\n",
       "</thead>\n",
       "<tbody>\n",
       "\t<tr><td>clear </td><td>82042023</td></tr>\n",
       "\t<tr><td>cloudy</td><td>47268278</td></tr>\n",
       "</tbody>\n",
       "</table>\n"
      ],
      "text/latex": [
       "A tibble: 2 × 2\n",
       "\\begin{tabular}{ll}\n",
       " sci\\_label & count\\\\\n",
       " <chr> & <int>\\\\\n",
       "\\hline\n",
       "\t clear  & 82042023\\\\\n",
       "\t cloudy & 47268278\\\\\n",
       "\\end{tabular}\n"
      ],
      "text/markdown": [
       "\n",
       "A tibble: 2 × 2\n",
       "\n",
       "| sci_label &lt;chr&gt; | count &lt;int&gt; |\n",
       "|---|---|\n",
       "| clear  | 82042023 |\n",
       "| cloudy | 47268278 |\n",
       "\n"
      ],
      "text/plain": [
       "  sci_label count   \n",
       "1 clear     82042023\n",
       "2 cloudy    47268278"
      ]
     },
     "metadata": {},
     "output_type": "display_data"
    }
   ],
   "source": [
    "df %>%\n",
    "  group_by(sci_label) %>%\n",
    "  summarise(count = n())"
   ]
  },
  {
   "cell_type": "code",
   "execution_count": null,
   "id": "0eff5eba",
   "metadata": {
    "vscode": {
     "languageId": "r"
    }
   },
   "outputs": [],
   "source": [
    "set.seed(123)\n",
    "train_index <- createDataPartition(df$sci_label, p = 0.7, list = FALSE)\n",
    "train <- df[train_index, ]\n",
    "test  <- df[-train_index, ]\n",
    "\n",
    "write_parquet(train, TRAIN_DATASET_PATH)\n",
    "write_parquet(test, TEST_DATASET_PATH)\n"
   ]
  },
  {
   "cell_type": "code",
   "execution_count": 9,
   "id": "06532054",
   "metadata": {
    "vscode": {
     "languageId": "r"
    }
   },
   "outputs": [],
   "source": [
    "train <- read_parquet(TRAIN_DATASET_PATH)%>%\n",
    "  mutate(sci_label = factor(sci_label, levels = c(\"cloudy\", \"clear\"))) %>%\n",
    "  as.data.frame()\n",
    "\n",
    "test <- read_parquet(TEST_DATASET_PATH)%>%\n",
    "  mutate(sci_label = factor(sci_label, levels = c(\"cloudy\", \"clear\"))) %>%\n",
    "  as.data.frame()"
   ]
  },
  {
   "cell_type": "code",
   "execution_count": 8,
   "id": "ff28dead",
   "metadata": {
    "vscode": {
     "languageId": "r"
    }
   },
   "outputs": [],
   "source": [
    "features <- c(\n",
    "  \"air_temperature\",\n",
    "  \"surface_albedo\",\n",
    "  \"surface_pressure\",\n",
    "  \"total_precipitable_water\",\n",
    "  \"wind_speed\"\n",
    ")"
   ]
  },
  {
   "cell_type": "code",
   "execution_count": 10,
   "id": "717b90bc",
   "metadata": {
    "vscode": {
     "languageId": "r"
    }
   },
   "outputs": [],
   "source": [
    "train_scaled <- scale(train[, features])\n",
    "test_scaled <- scale(test[, features],\n",
    "                    center = attr(train_scaled, \"scaled:center\"),\n",
    "                    scale  = attr(train_scaled, \"scaled:scale\"))\n",
    "  \n",
    "train_final <- data.frame(train_scaled, sci_label = train$sci_label)\n",
    "test_final  <- data.frame(test_scaled, sci_label = test$sci_label)"
   ]
  },
  {
   "cell_type": "code",
   "execution_count": null,
   "id": "efc34d82",
   "metadata": {
    "vscode": {
     "languageId": "r"
    }
   },
   "outputs": [],
   "source": [
    "cv_ctrl <- trainControl(\n",
    "  method = \"cv\",\n",
    "  number = 5,\n",
    "  classProbs = TRUE,\n",
    "  summaryFunction = defaultSummary,\n",
    "  savePredictions = \"final\"\n",
    ")\n"
   ]
  },
  {
   "cell_type": "markdown",
   "id": "8f6f14a7",
   "metadata": {
    "vscode": {
     "languageId": "r"
    }
   },
   "source": [
    "<br><br>\n",
    "\n",
    "<div align=\"center\">\n",
    "   <h3><b>Logistička regresija</b></h3>\n",
    "</div>\n",
    "\n",
    "---\n",
    "\n",
    "<h5>Scenario 1 – Klasična logistička regresija</h5>\n",
    "<ul>\n",
    "   <li>Model bez regularizacije: <code>glm</code></li>\n",
    "</ul>\n",
    "<h5>Scenario 2 – Ridge regresija (L2 regularizacija)</h5>\n",
    "<ul>\n",
    "   <li>Model koristi <code>glmnet</code> sa <code>alpha = 0</code>.</li>\n",
    "   <li>Scenario 2.1 <code>lambda=0.01</code>\n",
    "   <li>Scenario 2.2 <code>lambda=0.1</code>\n",
    "   <li>Scenario 2.3 <code>lambda=1</code>\n",
    "</ul>\n",
    "<h5>Scenario 3 – Lasso regresija (L1 regularizacija)</h5>\n",
    "<ul>\n",
    "   <li>Model koristi <code>glmnet</code> sa <code>alpha = 1</code></li>\n",
    "   <li>Scenario 3.1 <code>lambda=0.01</code>\n",
    "   <li>Scenario 3.2 <code>lambda=0.1</code>\n",
    "   <li>Scenario 3.3 <code>lambda=1</code>\n",
    "\n",
    "</ul>\n",
    "<br>"
   ]
  },
  {
   "cell_type": "code",
   "execution_count": 9,
   "id": "e3b1e265",
   "metadata": {
    "vscode": {
     "languageId": "r"
    }
   },
   "outputs": [
    {
     "name": "stdout",
     "output_type": "stream",
     "text": [
      "\n",
      "--- Feature Coefficients ---\n",
      "             (Intercept)          air_temperature           surface_albedo \n",
      "              0.62925555               0.07815943              -0.11393684 \n",
      "        surface_pressure total_precipitable_water               wind_speed \n",
      "              0.40867042              -0.79388933              -0.08732995 \n",
      "\n",
      "--- Confusion Matrix ---\n",
      "Confusion Matrix and Statistics\n",
      "\n",
      "          Reference\n",
      "Prediction  cloudy   clear\n",
      "    cloudy 1146200  686392\n",
      "    clear  1690552 4235473\n",
      "                                         \n",
      "               Accuracy : 0.6936         \n",
      "                 95% CI : (0.6933, 0.694)\n",
      "    No Information Rate : 0.6344         \n",
      "    P-Value [Acc > NIR] : < 2.2e-16      \n",
      "                                         \n",
      "                  Kappa : 0.286          \n",
      "                                         \n",
      " Mcnemar's Test P-Value : < 2.2e-16      \n",
      "                                         \n",
      "            Sensitivity : 0.4041         \n",
      "            Specificity : 0.8605         \n",
      "         Pos Pred Value : 0.6255         \n",
      "         Neg Pred Value : 0.7147         \n",
      "             Prevalence : 0.3656         \n",
      "         Detection Rate : 0.1477         \n",
      "   Detection Prevalence : 0.2362         \n",
      "      Balanced Accuracy : 0.6323         \n",
      "                                         \n",
      "       'Positive' Class : cloudy         \n",
      "                                         \n",
      "\n",
      "--- Model Summary ---\n",
      "Generalized Linear Model \n",
      "\n",
      "18103443 samples\n",
      "       5 predictor\n",
      "       2 classes: 'cloudy', 'clear' \n",
      "\n",
      "No pre-processing\n",
      "Resampling: Cross-Validated (5 fold) \n",
      "Summary of sample sizes: 14482755, 14482754, 14482755, 14482754, 14482754 \n",
      "Resampling results:\n",
      "\n",
      "  Accuracy   Kappa   \n",
      "  0.6933228  0.285189\n",
      "\n"
     ]
    }
   ],
   "source": [
    "# -------------------------------\n",
    "# Logistic Regression - scenario 1\n",
    "# -------------------------------\n",
    "\n",
    "log_model <- train(\n",
    "  sci_label ~ .,\n",
    "  data = train_final,\n",
    "  method = \"glm\",\n",
    "  family = \"binomial\",\n",
    "  trControl = cv_ctrl,\n",
    "  metric = \"Accuracy\"\n",
    ")\n",
    "\n",
    "cat(\"\\n--- Feature Coefficients ---\\n\")\n",
    "print(coef(log_model$finalModel))\n",
    "\n",
    "log_pred <- predict(log_model, newdata = test_final[, features])\n",
    "\n",
    "cat(\"\\n--- Confusion Matrix ---\\n\")\n",
    "cm <- confusionMatrix(log_pred, test_final$sci_label)\n",
    "print(cm)\n",
    "\n",
    "cat(\"\\n--- Model Summary ---\\n\")\n",
    "print(log_model)\n"
   ]
  },
  {
   "cell_type": "code",
   "execution_count": null,
   "id": "007b61df",
   "metadata": {
    "vscode": {
     "languageId": "r"
    }
   },
   "outputs": [
    {
     "name": "stdout",
     "output_type": "stream",
     "text": [
      "\n",
      "--- Best params (alpha, lambda) ---\n",
      "  alpha lambda\n",
      "1     0   0.01\n",
      "\n",
      "--- Coefficients for best model ---\n",
      "6 x 1 sparse Matrix of class \"dgCMatrix\"\n",
      "                                s=0.01\n",
      "(Intercept)              -1.169190e+01\n",
      "air_temperature           3.359050e-02\n",
      "surface_albedo           -4.530493e-03\n",
      "surface_pressure          1.513484e-03\n",
      "total_precipitable_water -7.122313e-04\n",
      "wind_speed               -4.878482e-03\n",
      "\n",
      "--- Confusion Matrix ---\n",
      "Confusion Matrix and Statistics\n",
      "\n",
      "          Reference\n",
      "Prediction  cloudy   clear\n",
      "    cloudy 1074570  612701\n",
      "    clear  1762182 4309164\n",
      "                                          \n",
      "               Accuracy : 0.6939          \n",
      "                 95% CI : (0.6936, 0.6942)\n",
      "    No Information Rate : 0.6344          \n",
      "    P-Value [Acc > NIR] : < 2.2e-16       \n",
      "                                          \n",
      "                  Kappa : 0.2782          \n",
      "                                          \n",
      " Mcnemar's Test P-Value : < 2.2e-16       \n",
      "                                          \n",
      "            Sensitivity : 0.3788          \n",
      "            Specificity : 0.8755          \n",
      "         Pos Pred Value : 0.6369          \n",
      "         Neg Pred Value : 0.7098          \n",
      "             Prevalence : 0.3656          \n",
      "         Detection Rate : 0.1385          \n",
      "   Detection Prevalence : 0.2175          \n",
      "      Balanced Accuracy : 0.6272          \n",
      "                                          \n",
      "       'Positive' Class : cloudy          \n",
      "                                          \n",
      "\n",
      "--- Model Summary ---\n",
      "glmnet \n",
      "\n",
      "18103443 samples\n",
      "       5 predictor\n",
      "       2 classes: 'cloudy', 'clear' \n",
      "\n",
      "No pre-processing\n",
      "Resampling: Cross-Validated (5 fold) \n",
      "Summary of sample sizes: 14482754, 14482754, 14482755, 14482754, 14482755 \n",
      "Resampling results across tuning parameters:\n",
      "\n",
      "  alpha  lambda  Accuracy   Kappa       \n",
      "  0      0.01    0.6935412  2.772558e-01\n",
      "  0      0.10    0.6830016  2.025193e-01\n",
      "  0      1.00    0.6343961  8.370556e-05\n",
      "  1      0.01    0.6917243  2.705152e-01\n",
      "  1      0.10    0.6347748  1.409552e-03\n",
      "  1      1.00    0.6343740  0.000000e+00\n",
      "\n",
      "Accuracy was used to select the optimal model using the largest value.\n",
      "The final values used for the model were alpha = 0 and lambda = 0.01.\n"
     ]
    },
    {
     "data": {
      "text/html": [
       "<table class=\"dataframe\">\n",
       "<caption>A data.frame: 6 x 6</caption>\n",
       "<thead>\n",
       "\t<tr><th></th><th scope=col>alpha</th><th scope=col>lambda</th><th scope=col>Accuracy</th><th scope=col>Kappa</th><th scope=col>AccuracySD</th><th scope=col>KappaSD</th></tr>\n",
       "\t<tr><th></th><th scope=col>&lt;dbl&gt;</th><th scope=col>&lt;dbl&gt;</th><th scope=col>&lt;dbl&gt;</th><th scope=col>&lt;dbl&gt;</th><th scope=col>&lt;dbl&gt;</th><th scope=col>&lt;dbl&gt;</th></tr>\n",
       "</thead>\n",
       "<tbody>\n",
       "\t<tr><th scope=row>1</th><td>0</td><td>0.01</td><td>0.6935412</td><td>2.772558e-01</td><td>1.891443e-04</td><td>3.606930e-04</td></tr>\n",
       "\t<tr><th scope=row>2</th><td>0</td><td>0.10</td><td>0.6830016</td><td>2.025193e-01</td><td>1.035228e-04</td><td>2.865672e-04</td></tr>\n",
       "\t<tr><th scope=row>3</th><td>0</td><td>1.00</td><td>0.6343961</td><td>8.370556e-05</td><td>2.349362e-06</td><td>8.443386e-06</td></tr>\n",
       "\t<tr><th scope=row>4</th><td>1</td><td>0.01</td><td>0.6917243</td><td>2.705152e-01</td><td>2.335733e-04</td><td>4.690767e-04</td></tr>\n",
       "\t<tr><th scope=row>5</th><td>1</td><td>0.10</td><td>0.6347748</td><td>1.409552e-03</td><td>1.783779e-05</td><td>6.178135e-05</td></tr>\n",
       "\t<tr><th scope=row>6</th><td>1</td><td>1.00</td><td>0.6343740</td><td>0.000000e+00</td><td>9.974149e-08</td><td>0.000000e+00</td></tr>\n",
       "</tbody>\n",
       "</table>\n"
      ],
      "text/latex": [
       "A data.frame: 6 x 6\n",
       "\\begin{tabular}{r|llllll}\n",
       "  & alpha & lambda & Accuracy & Kappa & AccuracySD & KappaSD\\\\\n",
       "  & <dbl> & <dbl> & <dbl> & <dbl> & <dbl> & <dbl>\\\\\n",
       "\\hline\n",
       "\t1 & 0 & 0.01 & 0.6935412 & 2.772558e-01 & 1.891443e-04 & 3.606930e-04\\\\\n",
       "\t2 & 0 & 0.10 & 0.6830016 & 2.025193e-01 & 1.035228e-04 & 2.865672e-04\\\\\n",
       "\t3 & 0 & 1.00 & 0.6343961 & 8.370556e-05 & 2.349362e-06 & 8.443386e-06\\\\\n",
       "\t4 & 1 & 0.01 & 0.6917243 & 2.705152e-01 & 2.335733e-04 & 4.690767e-04\\\\\n",
       "\t5 & 1 & 0.10 & 0.6347748 & 1.409552e-03 & 1.783779e-05 & 6.178135e-05\\\\\n",
       "\t6 & 1 & 1.00 & 0.6343740 & 0.000000e+00 & 9.974149e-08 & 0.000000e+00\\\\\n",
       "\\end{tabular}\n"
      ],
      "text/markdown": [
       "\n",
       "A data.frame: 6 x 6\n",
       "\n",
       "| <!--/--> | alpha &lt;dbl&gt; | lambda &lt;dbl&gt; | Accuracy &lt;dbl&gt; | Kappa &lt;dbl&gt; | AccuracySD &lt;dbl&gt; | KappaSD &lt;dbl&gt; |\n",
       "|---|---|---|---|---|---|---|\n",
       "| 1 | 0 | 0.01 | 0.6935412 | 2.772558e-01 | 1.891443e-04 | 3.606930e-04 |\n",
       "| 2 | 0 | 0.10 | 0.6830016 | 2.025193e-01 | 1.035228e-04 | 2.865672e-04 |\n",
       "| 3 | 0 | 1.00 | 0.6343961 | 8.370556e-05 | 2.349362e-06 | 8.443386e-06 |\n",
       "| 4 | 1 | 0.01 | 0.6917243 | 2.705152e-01 | 2.335733e-04 | 4.690767e-04 |\n",
       "| 5 | 1 | 0.10 | 0.6347748 | 1.409552e-03 | 1.783779e-05 | 6.178135e-05 |\n",
       "| 6 | 1 | 1.00 | 0.6343740 | 0.000000e+00 | 9.974149e-08 | 0.000000e+00 |\n",
       "\n"
      ],
      "text/plain": [
       "  alpha lambda Accuracy  Kappa        AccuracySD   KappaSD     \n",
       "1 0     0.01   0.6935412 2.772558e-01 1.891443e-04 3.606930e-04\n",
       "2 0     0.10   0.6830016 2.025193e-01 1.035228e-04 2.865672e-04\n",
       "3 0     1.00   0.6343961 8.370556e-05 2.349362e-06 8.443386e-06\n",
       "4 1     0.01   0.6917243 2.705152e-01 2.335733e-04 4.690767e-04\n",
       "5 1     0.10   0.6347748 1.409552e-03 1.783779e-05 6.178135e-05\n",
       "6 1     1.00   0.6343740 0.000000e+00 9.974149e-08 0.000000e+00"
      ]
     },
     "metadata": {},
     "output_type": "display_data"
    }
   ],
   "source": [
    "# ----------------------------------------\n",
    "# Logistic Regression - Ridge i Lasso\n",
    "# ----------------------------------------\n",
    "\n",
    "glmnet_model <- train(\n",
    "  sci_label ~ ., \n",
    "  data = train[, c(features, \"sci_label\")],\n",
    "  method = \"glmnet\",\n",
    "  trControl = cv_ctrl,\n",
    "  tuneGrid = expand.grid(alpha = c(0, 1), lambda = c(0.01, 0.1, 1)),\n",
    "  metric = \"Accuracy\"\n",
    ")\n",
    "\n",
    "cat(\"\\n--- Best params (alpha, lambda) ---\\n\")\n",
    "print(glmnet_model$bestTune)\n",
    "\n",
    "cat(\"\\n--- Coefficients for best model ---\\n\")\n",
    "print(coef(glmnet_model$finalModel, s = glmnet_model$bestTune$lambda))\n",
    "\n",
    "glmnet_pred <- predict(glmnet_model, newdata = test[, features])\n",
    "\n",
    "cat(\"\\n--- Confusion Matrix ---\\n\")\n",
    "cm <- confusionMatrix(glmnet_pred, test$sci_label)\n",
    "print(cm)\n",
    "\n",
    "cat(\"\\n--- Model Summary ---\\n\")\n",
    "print(glmnet_model)\n",
    "\n",
    "glmnet_model$results"
   ]
  },
  {
   "cell_type": "markdown",
   "id": "41afe8dd",
   "metadata": {
    "vscode": {
     "languageId": "r"
    }
   },
   "source": [
    "<br><br>\n",
    "\n",
    "<div align=\"center\">\n",
    "   <h3><b>Random Forest</b></h3>\n",
    "</div>\n",
    "\n",
    "---"
   ]
  },
  {
   "cell_type": "code",
   "execution_count": null,
   "id": "615cbd70",
   "metadata": {
    "vscode": {
     "languageId": "r"
    }
   },
   "outputs": [
    {
     "name": "stdout",
     "output_type": "stream",
     "text": [
      "\n",
      "==============================\n",
      "Training Random Forest with mtry = 2 \n",
      "Growing trees.. Progress: 46%. Estimated remaining time: 36 seconds.\n",
      "Growing trees.. Progress: 94%. Estimated remaining time: 4 seconds.\n",
      "Growing trees.. Progress: 48%. Estimated remaining time: 33 seconds.\n",
      "Growing trees.. Progress: 96%. Estimated remaining time: 2 seconds.\n",
      "Growing trees.. Progress: 48%. Estimated remaining time: 33 seconds.\n",
      "Growing trees.. Progress: 96%. Estimated remaining time: 2 seconds.\n",
      "Growing trees.. Progress: 46%. Estimated remaining time: 36 seconds.\n",
      "Growing trees.. Progress: 94%. Estimated remaining time: 4 seconds.\n",
      "Growing trees.. Progress: 48%. Estimated remaining time: 33 seconds.\n",
      "Growing trees.. Progress: 98%. Estimated remaining time: 1 seconds.\n",
      "Growing trees.. Progress: 38%. Estimated remaining time: 52 seconds.\n",
      "Growing trees.. Progress: 74%. Estimated remaining time: 22 seconds.\n",
      "\n",
      "--- Confusion Matrix ---\n",
      "Confusion Matrix and Statistics\n",
      "\n",
      "          Reference\n",
      "Prediction cloudy  clear\n",
      "    cloudy 227210 104056\n",
      "    clear  198484 634042\n",
      "                                          \n",
      "               Accuracy : 0.74            \n",
      "                 95% CI : (0.7392, 0.7408)\n",
      "    No Information Rate : 0.6342          \n",
      "    P-Value [Acc > NIR] : < 2.2e-16       \n",
      "                                          \n",
      "                  Kappa : 0.4121          \n",
      "                                          \n",
      " Mcnemar's Test P-Value : < 2.2e-16       \n",
      "                                          \n",
      "            Sensitivity : 0.5337          \n",
      "            Specificity : 0.8590          \n",
      "         Pos Pred Value : 0.6859          \n",
      "         Neg Pred Value : 0.7616          \n",
      "             Prevalence : 0.3658          \n",
      "         Detection Rate : 0.1952          \n",
      "   Detection Prevalence : 0.2846          \n",
      "      Balanced Accuracy : 0.6964          \n",
      "                                          \n",
      "       'Positive' Class : cloudy          \n",
      "                                          \n",
      "\n",
      "--- Feature Importance ---\n",
      "         air_temperature           surface_albedo         surface_pressure \n",
      "                63786.79                187665.95                 64580.69 \n",
      "total_precipitable_water               wind_speed \n",
      "               427688.65                189653.35 \n",
      "\n",
      "--- Cross-Validation Results ---\n",
      "  mtry splitrule min.node.size Accuracy    Kappa   AccuracySD     KappaSD\n",
      "1    2      gini             1  0.73661 0.404426 0.0007864263 0.001674475\n",
      "\n",
      "--- Best Parameters ---\n",
      "  mtry splitrule min.node.size\n",
      "1    2      gini             1\n",
      "\n",
      "--- Model Summary ---\n",
      "Random Forest \n",
      "\n",
      "2715517 samples\n",
      "      5 predictor\n",
      "      2 classes: 'cloudy', 'clear' \n",
      "\n",
      "No pre-processing\n",
      "Resampling: Cross-Validated (5 fold) \n",
      "Summary of sample sizes: 2172413, 2172414, 2172413, 2172414, 2172414 \n",
      "Resampling results:\n",
      "\n",
      "  Accuracy  Kappa   \n",
      "  0.73661   0.404426\n",
      "\n",
      "Tuning parameter 'mtry' was held constant at a value of 2\n",
      "Tuning\n",
      " parameter 'splitrule' was held constant at a value of gini\n",
      "Tuning\n",
      " parameter 'min.node.size' was held constant at a value of 1\n",
      "==============================\n",
      "\n",
      "==============================\n",
      "Training Random Forest with mtry = 3 \n",
      "Growing trees.. Progress: 38%. Estimated remaining time: 53 seconds.\n",
      "Growing trees.. Progress: 78%. Estimated remaining time: 18 seconds.\n",
      "Growing trees.. Progress: 34%. Estimated remaining time: 1 minute, 0 seconds.\n",
      "Growing trees.. Progress: 72%. Estimated remaining time: 24 seconds.\n",
      "Growing trees.. Progress: 34%. Estimated remaining time: 1 minute, 0 seconds.\n",
      "Growing trees.. Progress: 72%. Estimated remaining time: 24 seconds.\n",
      "Growing trees.. Progress: 34%. Estimated remaining time: 1 minute, 0 seconds.\n",
      "Growing trees.. Progress: 70%. Estimated remaining time: 27 seconds.\n",
      "Growing trees.. Progress: 34%. Estimated remaining time: 1 minute, 4 seconds.\n",
      "Growing trees.. Progress: 70%. Estimated remaining time: 28 seconds.\n",
      "Growing trees.. Progress: 26%. Estimated remaining time: 1 minute, 28 seconds.\n",
      "Growing trees.. Progress: 54%. Estimated remaining time: 53 seconds.\n",
      "Growing trees.. Progress: 82%. Estimated remaining time: 20 seconds.\n",
      "\n",
      "--- Confusion Matrix ---\n",
      "Confusion Matrix and Statistics\n",
      "\n",
      "          Reference\n",
      "Prediction cloudy  clear\n",
      "    cloudy 237177 123720\n",
      "    clear  188517 614378\n",
      "                                          \n",
      "               Accuracy : 0.7317          \n",
      "                 95% CI : (0.7309, 0.7325)\n",
      "    No Information Rate : 0.6342          \n",
      "    P-Value [Acc > NIR] : < 2.2e-16       \n",
      "                                          \n",
      "                  Kappa : 0.4025          \n",
      "                                          \n",
      " Mcnemar's Test P-Value : < 2.2e-16       \n",
      "                                          \n",
      "            Sensitivity : 0.5572          \n",
      "            Specificity : 0.8324          \n",
      "         Pos Pred Value : 0.6572          \n",
      "         Neg Pred Value : 0.7652          \n",
      "             Prevalence : 0.3658          \n",
      "         Detection Rate : 0.2038          \n",
      "   Detection Prevalence : 0.3101          \n",
      "      Balanced Accuracy : 0.6948          \n",
      "                                          \n",
      "       'Positive' Class : cloudy          \n",
      "                                          \n",
      "\n",
      "--- Feature Importance ---\n",
      "         air_temperature           surface_albedo         surface_pressure \n",
      "                75707.94                261340.10                 71330.72 \n",
      "total_precipitable_water               wind_speed \n",
      "               565866.14                229511.44 \n",
      "\n",
      "--- Cross-Validation Results ---\n",
      "  mtry splitrule min.node.size  Accuracy     Kappa   AccuracySD      KappaSD\n",
      "1    3      gini             1 0.7285758 0.3951376 0.0001953741 0.0003643277\n",
      "\n",
      "--- Best Parameters ---\n",
      "  mtry splitrule min.node.size\n",
      "1    3      gini             1\n",
      "\n",
      "--- Model Summary ---\n",
      "Random Forest \n",
      "\n",
      "2715517 samples\n",
      "      5 predictor\n",
      "      2 classes: 'cloudy', 'clear' \n",
      "\n",
      "No pre-processing\n",
      "Resampling: Cross-Validated (5 fold) \n",
      "Summary of sample sizes: 2172414, 2172414, 2172413, 2172413, 2172414 \n",
      "Resampling results:\n",
      "\n",
      "  Accuracy   Kappa    \n",
      "  0.7285758  0.3951376\n",
      "\n",
      "Tuning parameter 'mtry' was held constant at a value of 3\n",
      "Tuning\n",
      " parameter 'splitrule' was held constant at a value of gini\n",
      "Tuning\n",
      " parameter 'min.node.size' was held constant at a value of 1\n",
      "==============================\n"
     ]
    }
   ],
   "source": [
    "mtry_values <- c(2, 3)\n",
    "\n",
    "for (mtry_val in mtry_values) {\n",
    "  cat(\"\\n==============================\\n\")\n",
    "  cat(\"Training Random Forest with mtry =\", mtry_val, \"\\n\")\n",
    "  \n",
    "  rf_model <- train(\n",
    "    sci_label ~ ., \n",
    "    data = train_final[, c(features, \"sci_label\")],\n",
    "    method = \"ranger\",\n",
    "    trControl = cv_ctrl,\n",
    "    metric = \"Accuracy\",\n",
    "    tuneGrid = data.frame(mtry = mtry_val, splitrule = \"gini\", min.node.size = 1),\n",
    "    num.trees = 50,\n",
    "    importance = \"impurity\"\n",
    "  )\n",
    "  \n",
    "  rf_pred <- predict(rf_model, newdata = test_final[, features])\n",
    "  cm_rf <- confusionMatrix(rf_pred, test_final$sci_label)\n",
    "  \n",
    "  cat(\"\\n--- Confusion Matrix ---\\n\")\n",
    "  print(cm_rf)\n",
    "  \n",
    "  cat(\"\\n--- Feature Importance ---\\n\")\n",
    "  print(rf_model$finalModel$variable.importance)\n",
    "\n",
    "  cat(\"\\n--- Cross-Validation Results ---\\n\")\n",
    "  print(rf_model$results)\n",
    "  \n",
    "  cat(\"\\n--- Best Parameters ---\\n\")\n",
    "  print(rf_model$bestTune)\n",
    "  \n",
    "  cat(\"\\n--- Model Summary ---\\n\")\n",
    "  print(rf_model)\n",
    "  cat(\"==============================\\n\")\n",
    "}\n"
   ]
  },
  {
   "cell_type": "markdown",
   "id": "08420857",
   "metadata": {
    "vscode": {
     "languageId": "r"
    }
   },
   "source": [
    "<br><br>\n",
    "\n",
    "<div align=\"center\">\n",
    "   <h3><b>Rezultati Klasifikacije </b></h3>\n",
    "</div>\n",
    "\n",
    "---\n",
    "\n",
    "<br><br>\n",
    "\n",
    "\n",
    "<i> Tabela 2 </i> prikazuje distribuciju ciljnog obilježja.\n",
    "\n",
    "<div align=\"center\">\n",
    "\n",
    "\n",
    "| Label                    | Count               | Percentage |\n",
    "|:------------------------:|:-------------------:|:----------:|\n",
    "| clear                    | 82042023            |   63.5 %   |\n",
    "| cloudy                   | 47268278            |   36.5 %   |\n",
    "\n",
    "\n",
    "<i> Tabela 2 </i>\n",
    "\n",
    "<br>\n",
    "\n",
    "</div>\n",
    "\n",
    "Kao prediktorska obilježja odabrana su: **air_temperature, surface_albedo, surface_pressure, total_precipitable_water, wind_speed**.\n",
    "\n",
    "Performanse modela procijenjene su korištenjem k-tostruke unakrsne validacije (<i>engl. k-fold cross-validation</i>), sa k = 5.\n",
    "\n",
    "U nastavku su prikazane performanse različitih metoda klasifikacije (<i>Tabela 3</i>) s različitim parametrima: Logistic Regression, Random Forest i SVM. Za svaki metod prikazane su: **Accuracy, Precision, Specificity, Sensitivity i F1 skor**.\n",
    "\n",
    "> Napomena: broj stabala (**num_trees**) kod Random Forest-a ograničen je na 100 zbog kapaciteta memorije na mašini gdje je model treniran, koristeći biblioteku <i>ranger</i>.\n",
    "\n",
    "<br><br>\n",
    "\n",
    "<div align=\"center\">\n",
    "\n",
    "| Method                   |Parameters                           | Accuracy  | Precision   | Specificity   | Sensitivity  | F1 |\n",
    "|:------------------------:|:-----------------------------------:|:---------:|:-----------:|:-------------:|:------------:|:--:|\n",
    "| Logistic Regression      | no regularization (glm, binomial)   | 0         | 0           | 0             | 0            | 1  |\n",
    "| Logistic Regression      | λ = 0.01,    α = 0                  | 0         | 0           | 0             | 0            | 1  |\n",
    "| Logistic Regression      | λ = 0.1,     α = 0                  | 0         | 0           | 0             | 0            | 1  |\n",
    "| Logistic Regression      | λ = 1.0,     α = 0                  | 0         | 0           | 0             | 0            | 1  |\n",
    "| Logistic Regression      | λ = 0.01,    α = 1                  | 0         | 0           | 0             | 0            | 1  |\n",
    "| Logistic Regression      | λ = 0.1,     α = 1                  | 0         | 0           | 0             | 0            | 1  |\n",
    "| Logistic Regression      | λ = 1.0,     α = 1                  | 0         | 0           | 0             | 0            | 1  |\n",
    "| Random Forest            | trees = 100, mtry = 2               | 0         | 0           | 0             | 0            | 1  |\n",
    "| Random Forest            | trees = 100, mtry = 3               | 0         | 0           | 0             | 0            | 1  |\n",
    "\n",
    "\n",
    "<i> Tabela 3 </i>\n",
    "\n",
    "</div>"
   ]
  }
 ],
 "metadata": {
  "kernelspec": {
   "display_name": "R",
   "language": "R",
   "name": "ir"
  },
  "language_info": {
   "codemirror_mode": "r",
   "file_extension": ".r",
   "mimetype": "text/x-r-source",
   "name": "R",
   "pygments_lexer": "r",
   "version": "4.5.1"
  }
 },
 "nbformat": 4,
 "nbformat_minor": 5
}
