{
 "cells": [
  {
   "cell_type": "markdown",
   "id": "15ee0a97",
   "metadata": {
    "vscode": {
     "languageId": "r"
    }
   },
   "source": [
    "<div align=\"center\">\n",
    "    <h1><b>2. Preliminarna analiza podataka </b></h1>\n",
    "</div>\n"
   ]
  },
  {
   "cell_type": "code",
   "execution_count": null,
   "id": "00d57b45",
   "metadata": {
    "vscode": {
     "languageId": "plaintext"
    }
   },
   "outputs": [],
   "source": []
  }
 ],
 "metadata": {
  "language_info": {
   "name": "python"
  }
 },
 "nbformat": 4,
 "nbformat_minor": 5
}
